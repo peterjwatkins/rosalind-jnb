{
 "cells": [
  {
   "cell_type": "markdown",
   "metadata": {},
   "source": [
    "#### Reading and Writing"
   ]
  },
  {
   "cell_type": "markdown",
   "metadata": {},
   "source": [
    "In Rosalind, sample datasets are given as files. Python has a lot of functions for reading and writing information in files.\n",
    "\n",
    "To access a file, you must first open it. To do so, you can use the *open*() function, which takes two parameters: the name of the target file and the mode. Three modes are available:"
   ]
  },
  {
   "cell_type": "markdown",
   "metadata": {},
   "source": [
    "- *r* - read mode (the file is opened for reading)\n",
    "- *w* - write mode (the file is opened for writing, and if a file having the same name exists, it will be erased)\n",
    "- *a* - append mode (the file is opened for appending, which means that data is only to be added to the existing data in the file)"
   ]
  },
  {
   "cell_type": "code",
   "execution_count": 10,
   "metadata": {},
   "outputs": [],
   "source": [
    "#f = open('input.txt', 'r')"
   ]
  },
  {
   "cell_type": "markdown",
   "metadata": {},
   "source": [
    "This code told Python to open the file **input.txt** in **r** mode and store the result of this operation in a file object called **f**.\n",
    "\n",
    "To obtain data from the file object you created, you can apply the following methods:\n",
    "\n",
    "The command **f.read**(*n*) returns *n* bytes of data from the file as a string. When the size parameter is omitted, the entire contents of the file will be read and returned.\n",
    "\n",
    "The command **f.readline**() takes a single line from the file. Every line (except the last line of file) terminates in a newline character **(\\n)**. To remove this character from the end of a line you have read, use the .*strip(*) method. Note that every time you call .*readline*() it takes the next line in the file.\n",
    "\n",
    "The command **f.readlines**() returns a list containing every line in the file. If you need to obtain a particular line, you can use a list item index, e.g., **f.readlines()[2]** returns the third line of the file object *f* (don't forget that Python utilizes 0-based numbering!)\n",
    "\n",
    "An alternative way to read lines is to loop over the file object."
   ]
  },
  {
   "cell_type": "code",
   "execution_count": 11,
   "metadata": {},
   "outputs": [],
   "source": [
    "#for line in f:\n",
    "#  print line"
   ]
  },
  {
   "cell_type": "markdown",
   "metadata": {},
   "source": [
    "Using this loop, you can do anything you need with every line in the file.\n",
    "\n",
    "If the data in the file are not separated by new lines but rather by whitespace, commas, or any other delimeter, then all three commands above will return the data only in the form of lines. As a workaround, you can use the command **line.split()**. It uses whitespace in addition to **\\n** as delimeters by default, and runs of the same delimiter are regarded as a single separating space. For example,\n",
    "\n",
    "**'Beautiful is better than ugly.\\n'.split()** returns **['Beautiful', 'is', 'better', 'than', 'ugly.']**\n",
    "\n",
    "You can even specify the delimiter as a parameter of **line.split()**:\n",
    "\n",
    "**'Explicit, is better, than implicit.'.split(\",\")** returns **['Explicit', ' is better', ' than implicit.']**\n",
    "\n",
    "Another convenient command for file parsing is .**splitlines()**. It returns a list of the lines in the string, breaking at line boundaries. Line breaks are not included.\n",
    "\n",
    "**'Simple is\\nbetter than\\ncomplex.\\n'.splitlines()** returns **['Simple is', 'better than', 'complex.']**\n",
    "\n",
    "When you at last complete all your calculations and obtain a result, you need to store it somewhere. To save a file, output the desired file in write mode (if there is no such file, it will be created automatically):"
   ]
  },
  {
   "cell_type": "code",
   "execution_count": 12,
   "metadata": {},
   "outputs": [],
   "source": [
    "#f = open('output.txt', 'w')"
   ]
  },
  {
   "cell_type": "markdown",
   "metadata": {},
   "source": [
    "You can then write your data using **.write()** method."
   ]
  },
  {
   "cell_type": "code",
   "execution_count": 13,
   "metadata": {},
   "outputs": [],
   "source": [
    "#f.write('Any data you want to write into file')"
   ]
  },
  {
   "cell_type": "markdown",
   "metadata": {},
   "source": [
    "The command **f.write(string)** writes the contents of **string** to file **f**. If you want to write something other than a string (an integer say), you must first convert it to a string by using the function **str()**."
   ]
  },
  {
   "cell_type": "code",
   "execution_count": 14,
   "metadata": {},
   "outputs": [],
   "source": [
    "#inscription = ['Rosalind Elsie Franklin ', 1920, 1958]\n",
    "#s = str(inscription)\n",
    "#f.write(s)"
   ]
  },
  {
   "cell_type": "markdown",
   "metadata": {},
   "source": [
    "You also can write list items into a file one at a time by using a **for** loop:"
   ]
  },
  {
   "cell_type": "code",
   "execution_count": 15,
   "metadata": {},
   "outputs": [],
   "source": [
    "#for i in inscription:\n",
    "#  f.write(str(i) + '\\n')"
   ]
  },
  {
   "cell_type": "markdown",
   "metadata": {},
   "source": [
    "Adding **\\n** to **str(i)** means that every item will start with a new line.\n",
    "\n",
    "When you are finished writing file, don't forget that you must close it using the command **f.close()**. It's a good habit to get into."
   ]
  },
  {
   "cell_type": "markdown",
   "metadata": {},
   "source": [
    "#### Problem"
   ]
  },
  {
   "cell_type": "markdown",
   "metadata": {},
   "source": [
    "> *Given*: A file containing at most 1000 lines.\n",
    "\n",
    "> *Return*: A file containing all the even-numbered lines from the original file. Assume 1-based numbering of lines."
   ]
  },
  {
   "cell_type": "markdown",
   "metadata": {},
   "source": [
    "#### Sample Dataset"
   ]
  },
  {
   "cell_type": "markdown",
   "metadata": {},
   "source": [
    "> **Bravely bold Sir Robin rode forth from Camelot**\n",
    "\n",
    "> **Yes, brave Sir Robin turned about**\n",
    "\n",
    "> **He was not afraid to die, O brave Sir Robin**\n",
    "\n",
    "> **And gallantly he chickened out**\n",
    "\n",
    "> **He was not at all afraid to be killed in nasty ways**\n",
    "\n",
    "> **Bravely talking to his feet**\n",
    "\n",
    "> **Brave, brave, brave, brave Sir Robin**\n",
    "\n",
    "> **He beat a very brave retreat**"
   ]
  },
  {
   "cell_type": "markdown",
   "metadata": {},
   "source": [
    "#### Sample Output"
   ]
  },
  {
   "cell_type": "markdown",
   "metadata": {},
   "source": [
    "> **Yes, brave Sir Robin turned about**\n",
    "\n",
    "> **And gallantly he chickened out**\n",
    "\n",
    "> **Bravely talking to his feet**\n",
    "\n",
    "> **He beat a very brave retreat**"
   ]
  },
  {
   "cell_type": "markdown",
   "metadata": {},
   "source": [
    "http://rosalind.info/problems/ini5/"
   ]
  }
 ],
 "metadata": {
  "kernelspec": {
   "display_name": "Python 3",
   "language": "python",
   "name": "python3"
  },
  "language_info": {
   "codemirror_mode": {
    "name": "ipython",
    "version": 3
   },
   "file_extension": ".py",
   "mimetype": "text/x-python",
   "name": "python",
   "nbconvert_exporter": "python",
   "pygments_lexer": "ipython3",
   "version": "3.5.5"
  }
 },
 "nbformat": 4,
 "nbformat_minor": 2
}
